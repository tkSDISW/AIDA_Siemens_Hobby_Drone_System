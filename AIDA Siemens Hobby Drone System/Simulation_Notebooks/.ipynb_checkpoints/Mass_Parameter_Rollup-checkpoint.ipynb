{
 "cells": [
  {
   "cell_type": "markdown",
   "id": "f4599550",
   "metadata": {},
   "source": [
    "# Roll up Teamcenter Mass properties assigned to Logical Components\n",
    "\n"
   ]
  },
  {
   "cell_type": "code",
   "execution_count": 1,
   "id": "fb62b658",
   "metadata": {
    "tags": []
   },
   "outputs": [
    {
     "name": "stderr",
     "output_type": "stream",
     "text": [
      "Cannot load PVMT extension: ValueError: Provided model does not have a PropertyValuePkg\n",
      "Property values are not available in this model\n"
     ]
    }
   ],
   "source": [
    "import capellambse\n",
    "\n",
    "\n",
    "model_1 = capellambse.MelodyModel(\n",
    "    \"Gas_Turbine_Model/Gas Turbine Teststand.aird\",\n",
    "    jupyter_untrusted=True\n",
    ")\n",
    "\n"
   ]
  },
  {
   "cell_type": "code",
   "execution_count": 2,
   "id": "f0d7f35a-9b72-4bc1-ac79-59d09798fa42",
   "metadata": {
    "tags": []
   },
   "outputs": [],
   "source": [
    "#diagram = model.la.diagrams.by_name(\"[LAB] Power Subsystem\")\n",
    "#diagram"
   ]
  },
  {
   "cell_type": "markdown",
   "id": "6f4ad1ce-e449-4e6d-80aa-9811a78fec1c",
   "metadata": {},
   "source": [
    "Load up all the data. \n",
    "    Create a Option from Study Data.\n",
    "    Grab the obj with the matching name.\n",
    "    Load up data fom model object into the Option. "
   ]
  },
  {
   "cell_type": "code",
   "execution_count": 3,
   "id": "67a95573-f40b-4c87-88ce-a11ea22f0fdc",
   "metadata": {
    "tags": []
   },
   "outputs": [],
   "source": [
    "def look_up(applied_prop_values,find_string):\n",
    "    #find string can be same a python find operaation\n",
    "    found = ''\n",
    "    index = 0\n",
    "    for applied_prop_value in applied_prop_values:\n",
    "        if -1 != applied_prop_value.name.find(find_string) :\n",
    "            found = applied_prop_value\n",
    "            break\n",
    "    return found\n"
   ]
  },
  {
   "cell_type": "code",
   "execution_count": 4,
   "id": "d519e951",
   "metadata": {},
   "outputs": [
    {
     "name": "stdout",
     "output_type": "stream",
     "text": [
      "1.5\n",
      "0.8\n",
      "3.0\n",
      "2.0\n",
      "Total Mass: 7.3\n",
      "Updated Goal Value: 7.3\n"
     ]
    }
   ],
   "source": [
    "obj = model_1.search(\"LogicalComponent\").by_name(\"Engine\")\n",
    "#print(obj)\n",
    "total_mass = 0\n",
    "for comp in obj.components:\n",
    "    print(look_up(comp.applied_property_value_groups,\"Mass_\").property_values[\"Goal\"])\n",
    "    total_mass = total_mass + look_up(comp.applied_property_value_groups,\"Mass_\").property_values[\"Goal\"]\n",
    "print(\"Total Mass:\",total_mass)\n",
    "pvg = look_up(obj.applied_property_value_groups,\"Mass_\")\n",
    "pvg.property_values[\"Goal\"] = total_mass\n",
    "model_1.save()\n",
    "print(\"Updated Goal Value:\",look_up(obj.applied_property_value_groups,\"Mass_\").property_values[\"Goal\"])\n"
   ]
  }
 ],
 "metadata": {
  "kernelspec": {
   "display_name": "Python 3.11",
   "language": "python",
   "name": "venv"
  },
  "language_info": {
   "codemirror_mode": {
    "name": "ipython",
    "version": 3
   },
   "file_extension": ".py",
   "mimetype": "text/x-python",
   "name": "python",
   "nbconvert_exporter": "python",
   "pygments_lexer": "ipython3",
   "version": "3.11.5"
  }
 },
 "nbformat": 4,
 "nbformat_minor": 5
}
